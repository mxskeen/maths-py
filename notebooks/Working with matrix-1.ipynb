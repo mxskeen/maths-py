{
 "cells": [
  {
   "cell_type": "code",
   "execution_count": 2,
   "id": "0e2281a1",
   "metadata": {},
   "outputs": [],
   "source": [
    "import numpy as np #numpy = numerical python"
   ]
  },
  {
   "cell_type": "code",
   "execution_count": 8,
   "id": "6e7ae70f",
   "metadata": {},
   "outputs": [],
   "source": [
    "matrix_1 = np.array([[2,3],[4,5]]) #matrix syntax"
   ]
  },
  {
   "cell_type": "code",
   "execution_count": 6,
   "id": "1d466a5c",
   "metadata": {},
   "outputs": [
    {
     "name": "stdout",
     "output_type": "stream",
     "text": [
      "[[2 3]\n",
      " [4 5]]\n"
     ]
    }
   ],
   "source": [
    "print(matrix_1)"
   ]
  },
  {
   "cell_type": "code",
   "execution_count": 7,
   "id": "a0626644",
   "metadata": {},
   "outputs": [
    {
     "data": {
      "text/plain": [
       "(2, 2)"
      ]
     },
     "execution_count": 7,
     "metadata": {},
     "output_type": "execute_result"
    }
   ],
   "source": [
    "matrix_1.shape"
   ]
  },
  {
   "cell_type": "code",
   "execution_count": 13,
   "id": "8ea0196a",
   "metadata": {},
   "outputs": [],
   "source": [
    "matrix_2 = np.array([[2,3,4],[4,7,7],[6,9,4]])"
   ]
  },
  {
   "cell_type": "code",
   "execution_count": 14,
   "id": "2130569d",
   "metadata": {},
   "outputs": [
    {
     "name": "stdout",
     "output_type": "stream",
     "text": [
      "[[2 3 4]\n",
      " [4 7 7]\n",
      " [6 9 4]]\n"
     ]
    }
   ],
   "source": [
    "print(matrix_2)"
   ]
  },
  {
   "cell_type": "code",
   "execution_count": 15,
   "id": "8a15c679",
   "metadata": {},
   "outputs": [
    {
     "data": {
      "text/plain": [
       "(3, 3)"
      ]
     },
     "execution_count": 15,
     "metadata": {},
     "output_type": "execute_result"
    }
   ],
   "source": [
    "matrix_2.shape"
   ]
  },
  {
   "cell_type": "markdown",
   "id": "5283d5e1",
   "metadata": {},
   "source": [
    "matrix with random values"
   ]
  },
  {
   "cell_type": "code",
   "execution_count": 18,
   "id": "c0b3d428",
   "metadata": {},
   "outputs": [
    {
     "name": "stdout",
     "output_type": "stream",
     "text": [
      "[[0.16682853 0.0080628  0.50468275]\n",
      " [0.01881727 0.88647532 0.5944538 ]]\n"
     ]
    }
   ],
   "source": [
    "a = np.random.rand(2,3)\n",
    "print(a)"
   ]
  },
  {
   "cell_type": "code",
   "execution_count": 19,
   "id": "a4981e5d",
   "metadata": {},
   "outputs": [
    {
     "name": "stdout",
     "output_type": "stream",
     "text": [
      "[[88 75 60]\n",
      " [77 65 27]]\n"
     ]
    }
   ],
   "source": [
    "#random matrix with int values\n",
    "a = np.random.randint(100,size=(2,3)) #syntax (values less than no.,size=())\n",
    "print(a)"
   ]
  },
  {
   "cell_type": "markdown",
   "id": "2b3c784f",
   "metadata": {},
   "source": [
    "matrix with all zeroes"
   ]
  },
  {
   "cell_type": "code",
   "execution_count": 23,
   "id": "cb0fcf85",
   "metadata": {},
   "outputs": [
    {
     "name": "stdout",
     "output_type": "stream",
     "text": [
      "[[0. 0. 0.]\n",
      " [0. 0. 0.]]\n"
     ]
    }
   ],
   "source": [
    "a = np.zeros((2,3))\n",
    "print(a)"
   ]
  },
  {
   "cell_type": "code",
   "execution_count": 24,
   "id": "737092c1",
   "metadata": {},
   "outputs": [
    {
     "name": "stdout",
     "output_type": "stream",
     "text": [
      "[[0 0 0]\n",
      " [0 0 0]]\n"
     ]
    }
   ],
   "source": [
    "#all values are in float to convert it into int add dtype to it\n",
    "a = np.zeros((2,3), dtype=int)\n",
    "print(a)"
   ]
  },
  {
   "cell_type": "markdown",
   "id": "5eda1afc",
   "metadata": {},
   "source": [
    "matrix with all ones"
   ]
  },
  {
   "cell_type": "code",
   "execution_count": 25,
   "id": "780ef2d1",
   "metadata": {},
   "outputs": [
    {
     "name": "stdout",
     "output_type": "stream",
     "text": [
      "[[1 1 1]\n",
      " [1 1 1]]\n"
     ]
    }
   ],
   "source": [
    "a = np.ones((2,3),dtype=int)\n",
    "print(a)"
   ]
  },
  {
   "cell_type": "markdown",
   "id": "7a0901ec",
   "metadata": {},
   "source": [
    "Identity Matrix"
   ]
  },
  {
   "cell_type": "code",
   "execution_count": 30,
   "id": "2134ec4b",
   "metadata": {},
   "outputs": [
    {
     "name": "stdout",
     "output_type": "stream",
     "text": [
      "[[1. 0. 0. 0.]\n",
      " [0. 1. 0. 0.]\n",
      " [0. 0. 1. 0.]\n",
      " [0. 0. 0. 1.]]\n"
     ]
    }
   ],
   "source": [
    "a = np.eye(4,4)\n",
    "print(a)"
   ]
  },
  {
   "cell_type": "markdown",
   "id": "deb565f8",
   "metadata": {},
   "source": [
    "Transpose of matrix"
   ]
  },
  {
   "cell_type": "code",
   "execution_count": 32,
   "id": "f1ec1b12",
   "metadata": {},
   "outputs": [
    {
     "name": "stdout",
     "output_type": "stream",
     "text": [
      "[[21  5 75]\n",
      " [27 33 18]\n",
      " [50 97 69]]\n"
     ]
    }
   ],
   "source": [
    "#generate a random matrix\n",
    "a = np.random.randint(100,size=(3,3))\n",
    "print(a)"
   ]
  },
  {
   "cell_type": "code",
   "execution_count": 35,
   "id": "0076a4ed",
   "metadata": {},
   "outputs": [
    {
     "name": "stdout",
     "output_type": "stream",
     "text": [
      "[[21 27 50]\n",
      " [ 5 33 97]\n",
      " [75 18 69]]\n"
     ]
    }
   ],
   "source": [
    "transpose_a = np.transpose(a)\n",
    "print(transpose_a)"
   ]
  },
  {
   "cell_type": "code",
   "execution_count": null,
   "id": "070b827c",
   "metadata": {},
   "outputs": [],
   "source": []
  }
 ],
 "metadata": {
  "kernelspec": {
   "display_name": "Python 3 (ipykernel)",
   "language": "python",
   "name": "python3"
  },
  "language_info": {
   "codemirror_mode": {
    "name": "ipython",
    "version": 3
   },
   "file_extension": ".py",
   "mimetype": "text/x-python",
   "name": "python",
   "nbconvert_exporter": "python",
   "pygments_lexer": "ipython3",
   "version": "3.11.3"
  }
 },
 "nbformat": 4,
 "nbformat_minor": 5
}
