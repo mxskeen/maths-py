{
 "cells": [
  {
   "cell_type": "code",
   "execution_count": 1,
   "id": "51cc9b1c",
   "metadata": {},
   "outputs": [],
   "source": [
    "import numpy as np"
   ]
  },
  {
   "cell_type": "markdown",
   "id": "6d547500",
   "metadata": {},
   "source": [
    "dot product"
   ]
  },
  {
   "cell_type": "code",
   "execution_count": 2,
   "id": "b40ac900",
   "metadata": {},
   "outputs": [
    {
     "name": "stdout",
     "output_type": "stream",
     "text": [
      "23\n"
     ]
    }
   ],
   "source": [
    "a = np.array([2,3])\n",
    "b = np.array([4,5])\n",
    "a_dot_b = np.dot(a , b)\n",
    "print(a_dot_b)"
   ]
  },
  {
   "cell_type": "code",
   "execution_count": 3,
   "id": "b1dfa7ac",
   "metadata": {},
   "outputs": [
    {
     "name": "stdout",
     "output_type": "stream",
     "text": [
      "47\n"
     ]
    }
   ],
   "source": [
    "a = np.array([2,3,4])\n",
    "b = np.array([4,5,6])\n",
    "a_dot_b = np.dot(a , b)\n",
    "print(a_dot_b)"
   ]
  },
  {
   "cell_type": "markdown",
   "id": "41314a9c",
   "metadata": {},
   "source": [
    "cross product"
   ]
  },
  {
   "cell_type": "code",
   "execution_count": 4,
   "id": "b216ed1d",
   "metadata": {},
   "outputs": [
    {
     "name": "stdout",
     "output_type": "stream",
     "text": [
      "-2\n"
     ]
    }
   ],
   "source": [
    "a = np.array([2,3])\n",
    "b = np.array([4,5])\n",
    "a_cross_b = np.cross(a , b)\n",
    "print(a_cross_b)"
   ]
  },
  {
   "cell_type": "code",
   "execution_count": 5,
   "id": "f945e617",
   "metadata": {},
   "outputs": [
    {
     "name": "stdout",
     "output_type": "stream",
     "text": [
      "[-5511   638  2420]\n"
     ]
    }
   ],
   "source": [
    "a= np.array([30,5,67])\n",
    "b = np.array([44,88,77])\n",
    "a_cross_b = np.cross(a , b)\n",
    "print(a_cross_b)"
   ]
  },
  {
   "cell_type": "markdown",
   "id": "47bf6168",
   "metadata": {},
   "source": [
    "projection of a in terms of v"
   ]
  },
  {
   "cell_type": "code",
   "execution_count": 14,
   "id": "440fa0af",
   "metadata": {},
   "outputs": [
    {
     "name": "stdout",
     "output_type": "stream",
     "text": [
      "[4.16470588 4.85882353]\n"
     ]
    }
   ],
   "source": [
    "a = np.array([4,5])\n",
    "v = np.array([6,7])\n",
    "magnitude_of_v = np.sqrt(sum(v**2)) #if sum not working use np.sum\n",
    "a_on_v = (np.dot(a , v) /magnitude_of_v**2)*v\n",
    "print(a_on_v)"
   ]
  },
  {
   "cell_type": "code",
   "execution_count": 20,
   "id": "3f9104bd",
   "metadata": {},
   "outputs": [
    {
     "name": "stdout",
     "output_type": "stream",
     "text": [
      "projection of a in terms of v : [2795.34460229 4604.09699201 7152.79354117]\n"
     ]
    }
   ],
   "source": [
    "a = np.array([22,44,66])\n",
    "v = np.array([34,56,87])\n",
    "magnitude_of_v = np.sqrt(sum(v**2))\n",
    "a_on_v = (np.dot(a , v)/magnitude_of_v)*v\n",
    "print('projection of a in terms of v :',a_on_v)"
   ]
  },
  {
   "cell_type": "code",
   "execution_count": null,
   "id": "d58669de",
   "metadata": {},
   "outputs": [],
   "source": []
  }
 ],
 "metadata": {
  "kernelspec": {
   "display_name": "Python 3 (ipykernel)",
   "language": "python",
   "name": "python3"
  },
  "language_info": {
   "codemirror_mode": {
    "name": "ipython",
    "version": 3
   },
   "file_extension": ".py",
   "mimetype": "text/x-python",
   "name": "python",
   "nbconvert_exporter": "python",
   "pygments_lexer": "ipython3",
   "version": "3.11.3"
  }
 },
 "nbformat": 4,
 "nbformat_minor": 5
}
