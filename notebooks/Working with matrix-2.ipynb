{
 "cells": [
  {
   "cell_type": "markdown",
   "id": "32f4c459",
   "metadata": {},
   "source": [
    "importing numpy is important in mathematical operations"
   ]
  },
  {
   "cell_type": "markdown",
   "id": "5124b9d1",
   "metadata": {},
   "source": [
    "Matrix Addition "
   ]
  },
  {
   "cell_type": "code",
   "execution_count": 2,
   "id": "303c595f",
   "metadata": {},
   "outputs": [],
   "source": [
    "import numpy as np"
   ]
  },
  {
   "cell_type": "code",
   "execution_count": 5,
   "id": "f732e539",
   "metadata": {},
   "outputs": [
    {
     "name": "stdout",
     "output_type": "stream",
     "text": [
      "[[2 3]\n",
      " [4 6]]\n"
     ]
    }
   ],
   "source": [
    "a = np.array([[2,3],[4,6]])\n",
    "b = np.array([[3,4],[9,7]])\n",
    "print(a)"
   ]
  },
  {
   "cell_type": "code",
   "execution_count": 6,
   "id": "5d190392",
   "metadata": {},
   "outputs": [
    {
     "name": "stdout",
     "output_type": "stream",
     "text": [
      "[[3 4]\n",
      " [9 7]]\n"
     ]
    }
   ],
   "source": [
    "print(b)"
   ]
  },
  {
   "cell_type": "code",
   "execution_count": 7,
   "id": "babd00d0",
   "metadata": {},
   "outputs": [
    {
     "name": "stdout",
     "output_type": "stream",
     "text": [
      "[[ 5  7]\n",
      " [13 13]]\n"
     ]
    }
   ],
   "source": [
    "sum = a+b\n",
    "print(sum)"
   ]
  },
  {
   "cell_type": "code",
   "execution_count": 8,
   "id": "672bdabe",
   "metadata": {},
   "outputs": [],
   "source": [
    "#second way"
   ]
  },
  {
   "cell_type": "code",
   "execution_count": 9,
   "id": "234d9b93",
   "metadata": {},
   "outputs": [
    {
     "name": "stdout",
     "output_type": "stream",
     "text": [
      "[[8 9]\n",
      " [8 6]]\n"
     ]
    }
   ],
   "source": [
    "#taking random values this time\n",
    "matrix_1 = np.random.randint(10, size=(2,2))\n",
    "matrix_2 = np.random.randint(10, size=(2,2))\n",
    "print(matrix_1)"
   ]
  },
  {
   "cell_type": "code",
   "execution_count": 10,
   "id": "1525d6f6",
   "metadata": {},
   "outputs": [
    {
     "data": {
      "text/plain": [
       "(2, 2)"
      ]
     },
     "execution_count": 10,
     "metadata": {},
     "output_type": "execute_result"
    }
   ],
   "source": [
    "matrix_1.shape"
   ]
  },
  {
   "cell_type": "code",
   "execution_count": 11,
   "id": "e1a0920c",
   "metadata": {},
   "outputs": [
    {
     "name": "stdout",
     "output_type": "stream",
     "text": [
      "[[2 4]\n",
      " [2 5]]\n"
     ]
    }
   ],
   "source": [
    "print(matrix_2)"
   ]
  },
  {
   "cell_type": "code",
   "execution_count": 12,
   "id": "6c8a4c44",
   "metadata": {},
   "outputs": [
    {
     "name": "stdout",
     "output_type": "stream",
     "text": [
      "[[10 13]\n",
      " [10 11]]\n"
     ]
    }
   ],
   "source": [
    "#another way of adding (2nd)\n",
    "sum = np.add(matrix_1 , matrix_2)\n",
    "print(sum)"
   ]
  },
  {
   "cell_type": "markdown",
   "id": "0bba66b6",
   "metadata": {},
   "source": [
    "Matrix subtraction"
   ]
  },
  {
   "cell_type": "code",
   "execution_count": 13,
   "id": "941c6f91",
   "metadata": {},
   "outputs": [
    {
     "name": "stdout",
     "output_type": "stream",
     "text": [
      "[[2 5]\n",
      " [6 7]]\n"
     ]
    }
   ],
   "source": [
    "a = np.array([[2,5],[6,7]])\n",
    "b = np.array([[3,7],[7,9]])\n",
    "print(a)"
   ]
  },
  {
   "cell_type": "code",
   "execution_count": 14,
   "id": "1505757d",
   "metadata": {},
   "outputs": [
    {
     "name": "stdout",
     "output_type": "stream",
     "text": [
      "[[3 7]\n",
      " [7 9]]\n"
     ]
    }
   ],
   "source": [
    "print(b)"
   ]
  },
  {
   "cell_type": "code",
   "execution_count": 15,
   "id": "2b9b1138",
   "metadata": {},
   "outputs": [
    {
     "name": "stdout",
     "output_type": "stream",
     "text": [
      "[[-1 -2]\n",
      " [-1 -2]]\n"
     ]
    }
   ],
   "source": [
    "diff = a-b\n",
    "print(diff)"
   ]
  },
  {
   "cell_type": "code",
   "execution_count": 16,
   "id": "19342da5",
   "metadata": {},
   "outputs": [
    {
     "name": "stdout",
     "output_type": "stream",
     "text": [
      "[[7 1]\n",
      " [3 2]]\n"
     ]
    }
   ],
   "source": [
    "#2nd way\n",
    "a = np.random.randint(10, size = (2,2))\n",
    "b = np.random.randint(10, size = (2,2))\n",
    "print(a)"
   ]
  },
  {
   "cell_type": "code",
   "execution_count": 17,
   "id": "f517bb1d",
   "metadata": {},
   "outputs": [
    {
     "name": "stdout",
     "output_type": "stream",
     "text": [
      "[[7 7]\n",
      " [8 7]]\n"
     ]
    }
   ],
   "source": [
    "print(b)"
   ]
  },
  {
   "cell_type": "code",
   "execution_count": 19,
   "id": "88fa7087",
   "metadata": {},
   "outputs": [
    {
     "name": "stdout",
     "output_type": "stream",
     "text": [
      "[[ 0 -6]\n",
      " [-5 -5]]\n"
     ]
    }
   ],
   "source": [
    "diff = np.subtract(a,b)\n",
    "print(diff)"
   ]
  },
  {
   "cell_type": "code",
   "execution_count": 20,
   "id": "91c71410",
   "metadata": {},
   "outputs": [
    {
     "name": "stdout",
     "output_type": "stream",
     "text": [
      "[[7 9]\n",
      " [1 0]]\n"
     ]
    }
   ],
   "source": [
    "a = np.random.randint(10, size = (2,2))\n",
    "b = np.random.randint(10, size = (2,3))\n",
    "print(a)"
   ]
  },
  {
   "cell_type": "code",
   "execution_count": 21,
   "id": "b1ede6c8",
   "metadata": {},
   "outputs": [
    {
     "name": "stdout",
     "output_type": "stream",
     "text": [
      "[[1 7 7]\n",
      " [6 2 0]]\n"
     ]
    }
   ],
   "source": [
    "print(b)"
   ]
  },
  {
   "cell_type": "code",
   "execution_count": 22,
   "id": "e25c2357",
   "metadata": {},
   "outputs": [
    {
     "ename": "ValueError",
     "evalue": "operands could not be broadcast together with shapes (2,2) (2,3) ",
     "output_type": "error",
     "traceback": [
      "\u001b[0;31m---------------------------------------------------------------------------\u001b[0m",
      "\u001b[0;31mValueError\u001b[0m                                Traceback (most recent call last)",
      "Cell \u001b[0;32mIn[22], line 1\u001b[0m\n\u001b[0;32m----> 1\u001b[0m \u001b[38;5;28msum\u001b[39m \u001b[38;5;241m=\u001b[39m np\u001b[38;5;241m.\u001b[39madd(a,b)\n\u001b[1;32m      2\u001b[0m \u001b[38;5;28mprint\u001b[39m(\u001b[38;5;28msum\u001b[39m)\n",
      "\u001b[0;31mValueError\u001b[0m: operands could not be broadcast together with shapes (2,2) (2,3) "
     ]
    }
   ],
   "source": [
    "sum = np.add(a,b)\n",
    "print(sum)"
   ]
  },
  {
   "cell_type": "code",
   "execution_count": 23,
   "id": "4d5220e9",
   "metadata": {},
   "outputs": [],
   "source": [
    "#because both matrices are'nt of same size (also applicable for differnece)"
   ]
  },
  {
   "cell_type": "markdown",
   "id": "e8d2ebeb",
   "metadata": {},
   "source": [
    "# multiplication of a scalar to matrix"
   ]
  },
  {
   "cell_type": "code",
   "execution_count": 24,
   "id": "07fb21a0",
   "metadata": {},
   "outputs": [
    {
     "name": "stdout",
     "output_type": "stream",
     "text": [
      "[[1 0 8]\n",
      " [3 4 5]\n",
      " [9 8 6]]\n"
     ]
    }
   ],
   "source": [
    "a = 5\n",
    "b = np.random.randint(10, size=(3,3))\n",
    "print(b)"
   ]
  },
  {
   "cell_type": "code",
   "execution_count": 25,
   "id": "d5dcbdcf",
   "metadata": {},
   "outputs": [
    {
     "name": "stdout",
     "output_type": "stream",
     "text": [
      "[[ 5  0 40]\n",
      " [15 20 25]\n",
      " [45 40 30]]\n"
     ]
    }
   ],
   "source": [
    "x = np.multiply(a,b)\n",
    "print(x)"
   ]
  },
  {
   "cell_type": "markdown",
   "id": "abd69a70",
   "metadata": {},
   "source": [
    "# multiplication of two matrices"
   ]
  },
  {
   "cell_type": "code",
   "execution_count": 27,
   "id": "fab28a28",
   "metadata": {},
   "outputs": [
    {
     "name": "stdout",
     "output_type": "stream",
     "text": [
      "[[9 2 1 9]\n",
      " [9 2 3 3]\n",
      " [8 2 1 6]]\n"
     ]
    }
   ],
   "source": [
    "a = np.random.randint(10, size= (3,4))\n",
    "b = np.random.randint(10, size= (4,5))\n",
    "#should follow the matrices multiplication rule i.e no. of coloumns of 1st matrix = no. of rows of 2nd matrix \n",
    "print(a)"
   ]
  },
  {
   "cell_type": "code",
   "execution_count": 28,
   "id": "f8ff83dd",
   "metadata": {},
   "outputs": [
    {
     "name": "stdout",
     "output_type": "stream",
     "text": [
      "[[0 6 3 7 8]\n",
      " [2 0 6 6 6]\n",
      " [9 0 0 6 7]\n",
      " [4 6 0 6 6]]\n"
     ]
    }
   ],
   "source": [
    "print(b)"
   ]
  },
  {
   "cell_type": "code",
   "execution_count": 29,
   "id": "4e793c4b",
   "metadata": {},
   "outputs": [
    {
     "name": "stdout",
     "output_type": "stream",
     "text": [
      "[[ 49 108  39 135 145]\n",
      " [ 43  72  39 111 123]\n",
      " [ 37  84  36 110 119]]\n"
     ]
    }
   ],
   "source": [
    "a_multiplied_by_b = np.dot(a, b)\n",
    "print(a_multiplied_by_b)"
   ]
  },
  {
   "cell_type": "code",
   "execution_count": 31,
   "id": "1ae79dda",
   "metadata": {},
   "outputs": [
    {
     "data": {
      "text/plain": [
       "(3, 5)"
      ]
     },
     "execution_count": 31,
     "metadata": {},
     "output_type": "execute_result"
    }
   ],
   "source": [
    "# order of above matrix = remaining row of 1st matrix i.e 3 and remaining coloumn of 2nd matrix i.e 5 (3,5)\n",
    "a_multiplied_by_b.shape"
   ]
  },
  {
   "cell_type": "code",
   "execution_count": 33,
   "id": "6514673c",
   "metadata": {},
   "outputs": [
    {
     "ename": "ValueError",
     "evalue": "shapes (3,4) and (6,5) not aligned: 4 (dim 1) != 6 (dim 0)",
     "output_type": "error",
     "traceback": [
      "\u001b[0;31m---------------------------------------------------------------------------\u001b[0m",
      "\u001b[0;31mValueError\u001b[0m                                Traceback (most recent call last)",
      "Cell \u001b[0;32mIn[33], line 3\u001b[0m\n\u001b[1;32m      1\u001b[0m a \u001b[38;5;241m=\u001b[39m np\u001b[38;5;241m.\u001b[39mrandom\u001b[38;5;241m.\u001b[39mrandint(\u001b[38;5;241m10\u001b[39m, size\u001b[38;5;241m=\u001b[39m (\u001b[38;5;241m3\u001b[39m,\u001b[38;5;241m4\u001b[39m))\n\u001b[1;32m      2\u001b[0m b \u001b[38;5;241m=\u001b[39m np\u001b[38;5;241m.\u001b[39mrandom\u001b[38;5;241m.\u001b[39mrandint(\u001b[38;5;241m10\u001b[39m, size\u001b[38;5;241m=\u001b[39m (\u001b[38;5;241m6\u001b[39m,\u001b[38;5;241m5\u001b[39m))\n\u001b[0;32m----> 3\u001b[0m a_multiplied_by_b \u001b[38;5;241m=\u001b[39m np\u001b[38;5;241m.\u001b[39mdot(a, b)\n",
      "File \u001b[0;32m<__array_function__ internals>:200\u001b[0m, in \u001b[0;36mdot\u001b[0;34m(*args, **kwargs)\u001b[0m\n",
      "\u001b[0;31mValueError\u001b[0m: shapes (3,4) and (6,5) not aligned: 4 (dim 1) != 6 (dim 0)"
     ]
    }
   ],
   "source": [
    "a = np.random.randint(10, size= (3,4))\n",
    "b = np.random.randint(10, size= (6,5))\n",
    "a_multiplied_by_b = np.dot(a, b)"
   ]
  },
  {
   "cell_type": "code",
   "execution_count": 34,
   "id": "6654297d",
   "metadata": {},
   "outputs": [],
   "source": [
    "#error as we did'nt followed matrices multiplication rule"
   ]
  },
  {
   "cell_type": "markdown",
   "id": "0f9e758e",
   "metadata": {},
   "source": [
    "# elementwise multiplication of matrices"
   ]
  },
  {
   "cell_type": "code",
   "execution_count": 35,
   "id": "48949141",
   "metadata": {},
   "outputs": [
    {
     "name": "stdout",
     "output_type": "stream",
     "text": [
      "[[6 4 6]\n",
      " [3 5 0]\n",
      " [6 1 0]]\n"
     ]
    }
   ],
   "source": [
    "a = np.random.randint(7, size=(3,3))\n",
    "b = np.random.randint(7, size=(3,3))\n",
    "#should have same shape\n",
    "print(a)"
   ]
  },
  {
   "cell_type": "code",
   "execution_count": 36,
   "id": "9ac100e9",
   "metadata": {},
   "outputs": [
    {
     "name": "stdout",
     "output_type": "stream",
     "text": [
      "[[0 4 0]\n",
      " [1 6 3]\n",
      " [5 3 2]]\n"
     ]
    }
   ],
   "source": [
    "print(b)"
   ]
  },
  {
   "cell_type": "code",
   "execution_count": 37,
   "id": "ad7966d3",
   "metadata": {},
   "outputs": [],
   "source": [
    "x = np.multiply(a, b)"
   ]
  },
  {
   "cell_type": "code",
   "execution_count": 38,
   "id": "891dfc0a",
   "metadata": {},
   "outputs": [
    {
     "name": "stdout",
     "output_type": "stream",
     "text": [
      "[[ 0 16  0]\n",
      " [ 3 30  0]\n",
      " [30  3  0]]\n"
     ]
    }
   ],
   "source": [
    "print(x)"
   ]
  },
  {
   "cell_type": "code",
   "execution_count": null,
   "id": "6bc23e8b",
   "metadata": {},
   "outputs": [],
   "source": []
  }
 ],
 "metadata": {
  "kernelspec": {
   "display_name": "Python 3 (ipykernel)",
   "language": "python",
   "name": "python3"
  },
  "language_info": {
   "codemirror_mode": {
    "name": "ipython",
    "version": 3
   },
   "file_extension": ".py",
   "mimetype": "text/x-python",
   "name": "python",
   "nbconvert_exporter": "python",
   "pygments_lexer": "ipython3",
   "version": "3.11.3"
  }
 },
 "nbformat": 4,
 "nbformat_minor": 5
}
